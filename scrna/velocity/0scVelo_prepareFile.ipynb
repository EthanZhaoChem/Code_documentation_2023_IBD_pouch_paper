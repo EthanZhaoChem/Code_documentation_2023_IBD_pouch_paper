{
 "cells": [
  {
   "cell_type": "code",
   "execution_count": 1,
   "id": "801e2201",
   "metadata": {},
   "outputs": [],
   "source": [
    "import scanpy as sc\n",
    "import anndata\n",
    "from scipy import io\n",
    "from scipy.sparse import coo_matrix, csr_matrix\n",
    "import numpy as np\n",
    "import os\n",
    "import pandas as pd"
   ]
  },
  {
   "cell_type": "code",
   "execution_count": 2,
   "id": "96b82581",
   "metadata": {},
   "outputs": [],
   "source": [
    "input_path = '/project/gca/yuzhao1/work/final_RC2rna/velocity/epithelial/'"
   ]
  },
  {
   "cell_type": "code",
   "execution_count": null,
   "id": "6faf85ce",
   "metadata": {},
   "outputs": [],
   "source": [
    "# load sparse matrix:\n",
    "X = io.mmread(input_path+\"counts.mtx\")"
   ]
  },
  {
   "cell_type": "code",
   "execution_count": null,
   "id": "3cddf2c3",
   "metadata": {},
   "outputs": [],
   "source": [
    "# create anndata object\n",
    "adata = anndata.AnnData(\n",
    "    X=X.transpose().tocsr()\n",
    ")"
   ]
  },
  {
   "cell_type": "code",
   "execution_count": null,
   "id": "d0a7c63d",
   "metadata": {},
   "outputs": [],
   "source": [
    "# load cell metadata:\n",
    "cell_meta = pd.read_csv(input_path+\"metadata.csv\")"
   ]
  },
  {
   "cell_type": "code",
   "execution_count": null,
   "id": "05967085",
   "metadata": {},
   "outputs": [],
   "source": [
    "# load gene names:\n",
    "with open(input_path+\"gene_names.csv\", 'r') as f:\n",
    "    gene_names = f.read().splitlines()"
   ]
  },
  {
   "cell_type": "code",
   "execution_count": null,
   "id": "c4326b77",
   "metadata": {},
   "outputs": [],
   "source": [
    "# set anndata observations and index obs by barcodes, var by gene names\n",
    "adata.obs = cell_meta\n",
    "adata.obs.index = adata.obs['barcode']\n",
    "adata.var.index = gene_names"
   ]
  },
  {
   "cell_type": "code",
   "execution_count": null,
   "id": "336c33a9",
   "metadata": {},
   "outputs": [],
   "source": [
    "# load dimensional reduction:\n",
    "DimRec = pd.read_csv(input_path+\"DimRec.csv\")\n",
    "DimRec.index = adata.obs.index"
   ]
  },
  {
   "cell_type": "code",
   "execution_count": null,
   "id": "9ea0974b",
   "metadata": {},
   "outputs": [],
   "source": [
    "# set pca and umap (from harmony and harmony_umap in seurat)\n",
    "adata.obsm['X_pca'] = DimRec.to_numpy()\n",
    "adata.obsm['X_umap'] = np.vstack((adata.obs['embedding1'].to_numpy(), adata.obs['embedding2'].to_numpy())).T\n",
    "adata.obsm['X_harmony_umap'] = np.vstack((adata.obs['embedding1'].to_numpy(), adata.obs['embedding2'].to_numpy())).T"
   ]
  },
  {
   "cell_type": "code",
   "execution_count": null,
   "id": "d32a99e6",
   "metadata": {},
   "outputs": [],
   "source": [
    "# plot a UMAP colored by sampleID to test:\n",
    "sc.pl.umap(adata, color=['anno1'], frameon=False, save=True)"
   ]
  },
  {
   "cell_type": "code",
   "execution_count": null,
   "id": "aa4eccdb",
   "metadata": {},
   "outputs": [],
   "source": [
    "# save dataset as anndata format\n",
    "adata.write(input_path+'adata_input.h5ad')"
   ]
  },
  {
   "cell_type": "code",
   "execution_count": null,
   "id": "07936f25",
   "metadata": {},
   "outputs": [],
   "source": [
    "# reload dataset\n",
    "adata = sc.read_h5ad(input_path+'adata_input.h5ad')"
   ]
  }
 ],
 "metadata": {
  "kernelspec": {
   "display_name": "gca_env",
   "language": "python",
   "name": "gca_env"
  },
  "language_info": {
   "codemirror_mode": {
    "name": "ipython",
    "version": 3
   },
   "file_extension": ".py",
   "mimetype": "text/x-python",
   "name": "python",
   "nbconvert_exporter": "python",
   "pygments_lexer": "ipython3",
   "version": "3.8.13"
  }
 },
 "nbformat": 4,
 "nbformat_minor": 5
}
