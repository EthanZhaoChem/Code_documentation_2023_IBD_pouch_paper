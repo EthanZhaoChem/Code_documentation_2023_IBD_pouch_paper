{
 "cells": [
  {
   "cell_type": "code",
   "execution_count": null,
   "id": "5643342a",
   "metadata": {},
   "outputs": [],
   "source": [
    "import scvelo as scv\n",
    "import scanpy as sc\n",
    "import cellrank as cr\n",
    "import numpy as np\n",
    "import pandas as pd\n",
    "import anndata as ad\n"
   ]
  },
  {
   "cell_type": "code",
   "execution_count": null,
   "id": "ea38bf5d",
   "metadata": {},
   "outputs": [],
   "source": [
    "scv.settings.verbosity = 3\n",
    "scv.settings.set_figure_params('scvelo', facecolor='white', dpi=100, frameon=False, figsize = [5,5])\n",
    "cr.settings.verbosity = 2\n",
    "rc2_loom_path = '/project/gca/yuzhao1/work/final_RC2rna/upstream/'\n",
    "gca_loom_path = '/project/gca/yuzhao1/work/final_GCArna/upstream/'"
   ]
  },
  {
   "cell_type": "code",
   "execution_count": null,
   "id": "6d775572",
   "metadata": {},
   "outputs": [],
   "source": [
    "input_path = '/project/gca/yuzhao1/work/final_RC2rna/velocity/epithelial/pouch/'\n",
    "input_path_raw = '/project/gca/yuzhao1/work/final_RC2rna/velocity/epithelial/'"
   ]
  },
  {
   "cell_type": "code",
   "execution_count": null,
   "id": "fe472cc6",
   "metadata": {},
   "outputs": [],
   "source": [
    "######################## part 1: process ##########################"
   ]
  },
  {
   "cell_type": "code",
   "execution_count": null,
   "id": "8a22e2c6",
   "metadata": {},
   "outputs": [],
   "source": [
    "# loomdata = []\n",
    "# for i in SampleIDs:\n",
    "#     if('PP' in i or 'POU' in i):\n",
    "#         temp = scv.read(rc2_loom_path + i + '/velocyto/' + i + '.loom', cache=True)\n",
    "#     if('TI' in i or 'AC' in i):\n",
    "#         temp = scv.read(gca_loom_path + i + '/velocyto/' + i + '.loom', cache=True)\n",
    "#     barcodes = [bc.replace(':','_').replace('x','-1') for bc in temp.obs.index.tolist()]\n",
    "#     temp.obs.index = barcodes\n",
    "#     temp.var_names_make_unique()\n",
    "#     loomdata.append(temp)"
   ]
  },
  {
   "cell_type": "code",
   "execution_count": null,
   "id": "6439e34b",
   "metadata": {},
   "outputs": [],
   "source": [
    "# # concatenate the looms\n",
    "# loomdata_union = ad.concat(loomdata)"
   ]
  },
  {
   "cell_type": "code",
   "execution_count": null,
   "id": "1e96e221",
   "metadata": {},
   "outputs": [],
   "source": [
    "# # save\n",
    "# import pickle\n",
    "# filename = input_path+'loomdata_union.pkl'\n",
    "# pickle.dump(loomdata_union, \n",
    "#             open(filename, 'wb'))"
   ]
  },
  {
   "cell_type": "code",
   "execution_count": null,
   "id": "72bec4b7",
   "metadata": {},
   "outputs": [],
   "source": [
    "adata = sc.read_h5ad(input_path_raw+'adata_input.h5ad')\n",
    "# add metadata and visualize\n",
    "cell_meta = pd.read_csv(input_path_raw+\"metadata.csv\")\n",
    "adata.obs['anno1'] = cell_meta['anno1'].values\n",
    "adata = adata[adata.obs['biopsy_location'].isin(['POU'])]"
   ]
  },
  {
   "cell_type": "code",
   "execution_count": null,
   "id": "ef0559b6",
   "metadata": {},
   "outputs": [],
   "source": [
    "import pickle\n",
    "filename = input_path_raw+'loomdata_union.pkl'\n",
    "loomdata_union = pickle.load(open(filename, 'rb'))"
   ]
  },
  {
   "cell_type": "code",
   "execution_count": null,
   "id": "8b8683c7",
   "metadata": {},
   "outputs": [],
   "source": [
    "adata = scv.utils.merge(adata, loomdata_union)"
   ]
  },
  {
   "cell_type": "code",
   "execution_count": null,
   "id": "3dba0719",
   "metadata": {},
   "outputs": [],
   "source": [
    "adata"
   ]
  },
  {
   "cell_type": "code",
   "execution_count": null,
   "id": "070644db",
   "metadata": {},
   "outputs": [],
   "source": [
    "# save raw counts\n",
    "# adata.raw = adata"
   ]
  },
  {
   "cell_type": "code",
   "execution_count": null,
   "id": "c89713ec",
   "metadata": {},
   "outputs": [],
   "source": [
    "# plot umap to check\n",
    "sc.pl.umap(adata, color='anno1', frameon=False, legend_loc='on data', title='', save=False)"
   ]
  },
  {
   "cell_type": "code",
   "execution_count": null,
   "id": "16b34859",
   "metadata": {},
   "outputs": [],
   "source": [
    "scv.pl.proportions(adata, groupby='anno1', save='_all.png')"
   ]
  },
  {
   "cell_type": "code",
   "execution_count": null,
   "id": "40f5efa4",
   "metadata": {},
   "outputs": [],
   "source": [
    "# pre-process, pre-filter all tiny noises\n",
    "scv.pp.filter_genes(adata, min_shared_counts=10)"
   ]
  },
  {
   "cell_type": "code",
   "execution_count": null,
   "id": "b3a30b06",
   "metadata": {},
   "outputs": [],
   "source": [
    "adata"
   ]
  },
  {
   "cell_type": "code",
   "execution_count": null,
   "id": "063efdf5",
   "metadata": {},
   "outputs": [],
   "source": [
    "# normalize X, spliced and unspliced\n",
    "scv.pp.normalize_per_cell(adata, enforce=True) \n",
    "\n",
    "# get highly variable genes\n",
    "scv.pp.filter_genes_dispersion(adata, min_mean=0.0125, max_mean=3, min_disp=0.5)\n",
    "\n",
    "# only log the X\n",
    "scv.pp.log1p(adata)\n",
    "\n",
    "adata"
   ]
  },
  {
   "cell_type": "code",
   "execution_count": null,
   "id": "75942b3d",
   "metadata": {},
   "outputs": [],
   "source": [
    "# using the pca (harmony corrected vectors in seurat), no need to compute it again"
   ]
  },
  {
   "cell_type": "code",
   "execution_count": null,
   "id": "0d60c9dd",
   "metadata": {},
   "outputs": [],
   "source": [
    "# use a copy to calculate harmony_pca in this subset\n",
    "# using subset because otherwise the X will be subset by variable genes\n",
    "tempann = adata.copy()"
   ]
  },
  {
   "cell_type": "code",
   "execution_count": null,
   "id": "02036b92",
   "metadata": {},
   "outputs": [],
   "source": [
    "# scv.pp.normalize_per_cell(tempann, enforce=True) \n",
    "# scv.pp.log1p(tempann)\n",
    "# sc.pp.highly_variable_genes(tempann, min_mean=0.0125, max_mean=3, min_disp=0.5)\n",
    "# sc.pl.highly_variable_genes(tempann)\n",
    "# tempann = tempann[:, tempann.var.highly_variable]"
   ]
  },
  {
   "cell_type": "code",
   "execution_count": null,
   "id": "4a26bd89",
   "metadata": {},
   "outputs": [],
   "source": [
    "sc.pp.regress_out(tempann, ['nCount_RNA', 'percent.mt', 'CC.Difference'])\n",
    "sc.pp.scale(tempann, max_value=10)\n",
    "sc.tl.pca(tempann, svd_solver='arpack', n_comps=50)\n",
    "import scanpy.external as sce\n",
    "sce.pp.harmony_integrate(tempann, 'Patient_ID', max_iter_harmony = 20)\n",
    "adata.obsm['X_pca'] = tempann.obsm['X_pca_harmony']\n",
    "adata.obsm['X_pca']"
   ]
  },
  {
   "cell_type": "code",
   "execution_count": null,
   "id": "16feab2e",
   "metadata": {},
   "outputs": [],
   "source": [
    "adata"
   ]
  },
  {
   "cell_type": "code",
   "execution_count": null,
   "id": "3ce26faf",
   "metadata": {},
   "outputs": [],
   "source": [
    "sc.pp.neighbors(adata, n_neighbors=10, n_pcs=30)"
   ]
  },
  {
   "cell_type": "code",
   "execution_count": null,
   "id": "eb4daeb5",
   "metadata": {},
   "outputs": [],
   "source": [
    "scv.pp.moments(adata, use_rep='X_pca', n_pcs=50, \n",
    "               n_neighbors=10, use_highly_variable=True)"
   ]
  },
  {
   "cell_type": "code",
   "execution_count": null,
   "id": "29aa2199",
   "metadata": {},
   "outputs": [],
   "source": [
    "######################## part 2.1: Run dynamical model ##########################"
   ]
  },
  {
   "cell_type": "code",
   "execution_count": null,
   "id": "cd12a52e",
   "metadata": {},
   "outputs": [],
   "source": [
    "# dynamics model requires to run scv.tl.recover_dynamics(adata, **params) beforehand\n",
    "scv.tl.recover_dynamics(adata, n_jobs=4)\n",
    "\n",
    "# compute velocity\n",
    "scv.tl.velocity(adata, mode='dynamical', diff_kinetics=True)\n",
    "\n",
    "\n",
    "!jupyter nbextension enable --py widgetsnbextension\n",
    "\n",
    "scv.tl.velocity_graph(adata, n_neighbors=30, n_jobs=4)\n",
    "\n",
    "scv.settings.set_figure_params('scvelo', facecolor='white', dpi=100, frameon=False,\n",
    "                              figsize = [5,5])"
   ]
  },
  {
   "cell_type": "code",
   "execution_count": null,
   "id": "66bb3692",
   "metadata": {},
   "outputs": [],
   "source": [
    "scv.pl.velocity_embedding_grid(adata, basis='umap', color='anno1', \n",
    "                               save=False, title='', scale=0.2)"
   ]
  },
  {
   "cell_type": "code",
   "execution_count": null,
   "id": "329b2088",
   "metadata": {},
   "outputs": [],
   "source": [
    "scv.pl.velocity_embedding_stream(adata, basis='umap', color=['anno1'], cutoff_perc=5, density = 2.5,\n",
    "                                 save=False, title='')"
   ]
  },
  {
   "cell_type": "code",
   "execution_count": null,
   "id": "c27e76c5",
   "metadata": {},
   "outputs": [],
   "source": [
    "# save dataset as anndata format\n",
    "adata.write(input_path+'adata_dynamical_output.h5ad')"
   ]
  },
  {
   "cell_type": "code",
   "execution_count": null,
   "id": "eee05a92",
   "metadata": {},
   "outputs": [],
   "source": [
    "######################## part 2.2: Run stochastic model with differential kinetics ###############"
   ]
  },
  {
   "cell_type": "code",
   "execution_count": null,
   "id": "fbcc264c",
   "metadata": {},
   "outputs": [],
   "source": [
    "scv.tl.velocity(adata, diff_kinetics=True, mode='stochastic')\n",
    "\n",
    "!jupyter nbextension enable --py widgetsnbextension\n",
    "\n",
    "scv.tl.velocity_graph(adata, n_neighbors=10, n_jobs=4)\n",
    "\n",
    "scv.settings.set_figure_params('scvelo', facecolor='white', dpi=100, frameon=False,\n",
    "                              figsize = [5,5])"
   ]
  },
  {
   "cell_type": "code",
   "execution_count": null,
   "id": "29b94b24",
   "metadata": {},
   "outputs": [],
   "source": [
    "scv.pl.velocity_embedding_grid(adata, basis='umap', color='anno1', \n",
    "                               save=False, title='', scale=0.2)"
   ]
  },
  {
   "cell_type": "code",
   "execution_count": null,
   "id": "3c344c1a",
   "metadata": {},
   "outputs": [],
   "source": [
    "scv.pl.velocity_embedding_stream(adata, basis='umap', color=['anno1'], density=1.5,\n",
    "                                 save=False, title='')"
   ]
  },
  {
   "cell_type": "code",
   "execution_count": null,
   "id": "491faeff",
   "metadata": {},
   "outputs": [],
   "source": [
    "# save dataset as anndata format\n",
    "adata.write(input_path+'adata_stochastic_output.h5ad')"
   ]
  },
  {
   "cell_type": "code",
   "execution_count": null,
   "id": "e7738e58",
   "metadata": {},
   "outputs": [],
   "source": []
  },
  {
   "cell_type": "code",
   "execution_count": null,
   "id": "7cbd0b1f",
   "metadata": {},
   "outputs": [],
   "source": [
    "######################## part 3: visualize ##########################"
   ]
  },
  {
   "cell_type": "code",
   "execution_count": null,
   "id": "b9b1fe3a",
   "metadata": {},
   "outputs": [],
   "source": [
    "# reload dataset\n",
    "# adata = sc.read_h5ad(input_path+'adata_output.h5ad')"
   ]
  },
  {
   "cell_type": "code",
   "execution_count": null,
   "id": "00259f5e",
   "metadata": {},
   "outputs": [],
   "source": [
    "# reload stochastic data\n",
    "adata = sc.read_h5ad(input_path+'adata_stochastic_output.h5ad')"
   ]
  },
  {
   "cell_type": "code",
   "execution_count": null,
   "id": "9e038f48",
   "metadata": {},
   "outputs": [],
   "source": [
    "# # load new umap from cell metadata:\n",
    "# cell_meta = pd.read_csv(input_path+\"metadata.csv\")\n",
    "# adata.obsm['X_umap'] = np.vstack((cell_meta['embedding1'].to_numpy(), cell_meta['embedding2'].to_numpy())).T"
   ]
  },
  {
   "cell_type": "code",
   "execution_count": null,
   "id": "96e5ffd1",
   "metadata": {},
   "outputs": [],
   "source": [
    "scv.settings.set_figure_params('scvelo', facecolor='white', dpi=100, frameon=False,\n",
    "                              figsize = [5,5])"
   ]
  },
  {
   "cell_type": "code",
   "execution_count": null,
   "id": "df01cf15",
   "metadata": {},
   "outputs": [],
   "source": [
    "scv.pl.velocity_embedding_grid(adata, basis='umap', color='anno1', \n",
    "                               save=False, title='', scale=0.2)"
   ]
  },
  {
   "cell_type": "code",
   "execution_count": null,
   "id": "51f9296f",
   "metadata": {},
   "outputs": [],
   "source": [
    "scv.pl.velocity_embedding_stream(adata, basis='umap', color=['anno1'], \n",
    "                                 save=False, title='')"
   ]
  },
  {
   "cell_type": "code",
   "execution_count": null,
   "id": "d7fcbd72",
   "metadata": {},
   "outputs": [],
   "source": []
  },
  {
   "cell_type": "code",
   "execution_count": null,
   "id": "6620a353",
   "metadata": {},
   "outputs": [],
   "source": [
    "############### part 4: downstream analysis ###############"
   ]
  },
  {
   "cell_type": "code",
   "execution_count": null,
   "id": "3b25d4ce",
   "metadata": {},
   "outputs": [],
   "source": [
    "x = adata.var.index[np.where(adata.var['velocity_genes'] )]\n",
    "np.savetxt(\"epithelial/velocity_genes.csv\", x, delimiter=\",\", fmt='%s')"
   ]
  },
  {
   "cell_type": "code",
   "execution_count": null,
   "id": "859b063f",
   "metadata": {},
   "outputs": [],
   "source": [
    "# waiting for libtbb\n",
    "import cellrank\n",
    "cellrank.tl.terminal_states(adata) # this is an improved version of scVelo"
   ]
  },
  {
   "cell_type": "code",
   "execution_count": null,
   "id": "79e476ed",
   "metadata": {
    "scrolled": true
   },
   "outputs": [],
   "source": [
    "scv.tl.velocity_clusters(adata)\n",
    "scv.pl.scatter(adata, color='velocity_clusters')"
   ]
  },
  {
   "cell_type": "code",
   "execution_count": null,
   "id": "f4467f43",
   "metadata": {},
   "outputs": [],
   "source": [
    "scv.tl.rank_velocity_genes(adata, groupby='anno1', min_corr=.3)"
   ]
  },
  {
   "cell_type": "code",
   "execution_count": null,
   "id": "22c1eb28",
   "metadata": {},
   "outputs": [],
   "source": [
    "df = scv.DataFrame(adata.uns['rank_velocity_genes']['names'])\n",
    "df.head(20)"
   ]
  },
  {
   "cell_type": "code",
   "execution_count": null,
   "id": "0d7799b8",
   "metadata": {},
   "outputs": [],
   "source": [
    "adata"
   ]
  },
  {
   "cell_type": "code",
   "execution_count": null,
   "id": "50b83900",
   "metadata": {},
   "outputs": [],
   "source": [
    "scv.pl.velocity(adata, [\"SATB2\",\"TFCP2L1\",\"PPARG\",\"ZBTB10\"], color='anno1',\n",
    "                ncols=1, save = '_markers_all.png', dpi=300)"
   ]
  },
  {
   "cell_type": "code",
   "execution_count": null,
   "id": "656be270",
   "metadata": {},
   "outputs": [],
   "source": [
    "scv.pl.scatter(adata, 'LGR5', color=['anno1', 'velocity'])"
   ]
  },
  {
   "cell_type": "code",
   "execution_count": null,
   "id": "59226ce6",
   "metadata": {},
   "outputs": [],
   "source": [
    "scv.pl.velocity(adata, ['LGR5'], ncols=1, color='anno1')"
   ]
  },
  {
   "cell_type": "code",
   "execution_count": null,
   "id": "d546ac59",
   "metadata": {},
   "outputs": [],
   "source": [
    "df = adata.var\n",
    "df = df[(df['fit_likelihood'] > .1) & df['velocity_genes'] == True]\n",
    "\n",
    "kwargs = dict(xscale='log', fontsize=16)\n",
    "with scv.GridSpec(ncols=3) as pl:\n",
    "    pl.hist(df['fit_alpha'], xlabel='transcription rate', **kwargs)\n",
    "    pl.hist(df['fit_beta'] * df['fit_scaling'], xlabel='splicing rate', xticks=[.1, .4, 1], **kwargs)\n",
    "    pl.hist(df['fit_gamma'], xlabel='degradation rate', xticks=[.1, .4, 1], **kwargs)\n",
    "\n",
    "scv.get_df(adata, 'fit*', dropna=True).head()"
   ]
  },
  {
   "cell_type": "code",
   "execution_count": null,
   "id": "554502b9",
   "metadata": {},
   "outputs": [],
   "source": [
    "scv.tl.rank_velocity_genes(adata, groupby='anno1', min_corr=.3)"
   ]
  },
  {
   "cell_type": "code",
   "execution_count": null,
   "id": "0e23a1e7",
   "metadata": {},
   "outputs": [],
   "source": [
    "df = scv.DataFrame(adata.uns['rank_velocity_genes']['names'])\n",
    "df.head(20)"
   ]
  },
  {
   "cell_type": "code",
   "execution_count": null,
   "id": "66db00c7",
   "metadata": {
    "scrolled": true
   },
   "outputs": [],
   "source": [
    "top_genes = adata.var['fit_likelihood'].sort_values(ascending=False).index)"
   ]
  },
  {
   "cell_type": "code",
   "execution_count": null,
   "id": "ecf1145d",
   "metadata": {},
   "outputs": [],
   "source": [
    "scv.pl.scatter(adata, color='anno1', basis=top_genes[:15], ncols=5, frameon=False)"
   ]
  },
  {
   "cell_type": "code",
   "execution_count": null,
   "id": "93b76a44",
   "metadata": {},
   "outputs": [],
   "source": [
    "top_genes"
   ]
  },
  {
   "cell_type": "code",
   "execution_count": null,
   "id": "4000bdf3",
   "metadata": {},
   "outputs": [],
   "source": []
  },
  {
   "cell_type": "code",
   "execution_count": null,
   "id": "ce83ab6a",
   "metadata": {},
   "outputs": [],
   "source": [
    "############### part 5: cellrank ###############\n",
    "# not suitable for our dataset, they lack a general adaptability"
   ]
  },
  {
   "cell_type": "code",
   "execution_count": null,
   "id": "c3ba8aed",
   "metadata": {},
   "outputs": [],
   "source": [
    "adata = sc.read_h5ad(input_path+'adata_dynamical_output.h5ad')"
   ]
  },
  {
   "cell_type": "code",
   "execution_count": null,
   "id": "9b68fdac",
   "metadata": {},
   "outputs": [],
   "source": [
    "import cellrank as cr\n",
    "import tbb\n",
    "from cellrank.tl.estimators import GPCCA\n",
    "from cellrank.tl.kernels import CytoTRACEKernel\n",
    "from cellrank.tl.kernels import ConnectivityKernel\n",
    "from cellrank.tl.kernels import VelocityKernel"
   ]
  },
  {
   "cell_type": "code",
   "execution_count": null,
   "id": "8d786d36",
   "metadata": {},
   "outputs": [],
   "source": []
  },
  {
   "cell_type": "code",
   "execution_count": null,
   "id": "0d3e1533",
   "metadata": {},
   "outputs": [],
   "source": [
    "# change kernel"
   ]
  },
  {
   "cell_type": "code",
   "execution_count": null,
   "id": "e800641e",
   "metadata": {},
   "outputs": [],
   "source": [
    "tk = CytoTRACEKernel(adata).compute_transition_matrix()\n",
    "nk = ConnectivityKernel(adata).compute_transition_matrix()\n",
    "vk = VelocityKernel(adata).compute_transition_matrix()\n",
    "combined_kernel = 0.3 * tk + 0.3 * nk + 0.4 * vk"
   ]
  },
  {
   "cell_type": "code",
   "execution_count": null,
   "id": "e702ddbb",
   "metadata": {},
   "outputs": [],
   "source": [
    "combined_kernel = CytoTRACEKernel(adata).compute_transition_matrix()\n"
   ]
  },
  {
   "cell_type": "code",
   "execution_count": null,
   "id": "301b0c10",
   "metadata": {},
   "outputs": [],
   "source": [
    "g = GPCCA(combined_kernel)\n",
    "g.compute_macrostates(n_states=10, cluster_key=\"anno1\")\n",
    "g.plot_macrostates(same_plot=False)"
   ]
  },
  {
   "cell_type": "code",
   "execution_count": null,
   "id": "67eef81b",
   "metadata": {},
   "outputs": [],
   "source": []
  },
  {
   "cell_type": "code",
   "execution_count": null,
   "id": "13f5c68c",
   "metadata": {},
   "outputs": [],
   "source": []
  },
  {
   "cell_type": "code",
   "execution_count": null,
   "id": "54d04bf4",
   "metadata": {},
   "outputs": [],
   "source": []
  },
  {
   "cell_type": "code",
   "execution_count": null,
   "id": "231bf46f",
   "metadata": {},
   "outputs": [],
   "source": []
  },
  {
   "cell_type": "code",
   "execution_count": null,
   "id": "78085412",
   "metadata": {},
   "outputs": [],
   "source": []
  },
  {
   "cell_type": "code",
   "execution_count": null,
   "id": "82949cd4",
   "metadata": {},
   "outputs": [],
   "source": []
  },
  {
   "cell_type": "code",
   "execution_count": null,
   "id": "803044c5",
   "metadata": {},
   "outputs": [],
   "source": []
  },
  {
   "cell_type": "code",
   "execution_count": null,
   "id": "88d943c0",
   "metadata": {},
   "outputs": [],
   "source": []
  },
  {
   "cell_type": "code",
   "execution_count": null,
   "id": "b53892fc",
   "metadata": {},
   "outputs": [],
   "source": []
  },
  {
   "cell_type": "code",
   "execution_count": null,
   "id": "36f9c0a2",
   "metadata": {},
   "outputs": [],
   "source": []
  },
  {
   "cell_type": "code",
   "execution_count": null,
   "id": "41637c0c",
   "metadata": {},
   "outputs": [],
   "source": []
  },
  {
   "cell_type": "code",
   "execution_count": null,
   "id": "dc30a888",
   "metadata": {},
   "outputs": [],
   "source": []
  },
  {
   "cell_type": "code",
   "execution_count": null,
   "id": "57c85610",
   "metadata": {},
   "outputs": [],
   "source": []
  }
 ],
 "metadata": {
  "kernelspec": {
   "display_name": "gca_env",
   "language": "python",
   "name": "gca_env"
  },
  "language_info": {
   "codemirror_mode": {
    "name": "ipython",
    "version": 3
   },
   "file_extension": ".py",
   "mimetype": "text/x-python",
   "name": "python",
   "nbconvert_exporter": "python",
   "pygments_lexer": "ipython3",
   "version": "3.8.13"
  }
 },
 "nbformat": 4,
 "nbformat_minor": 5
}
