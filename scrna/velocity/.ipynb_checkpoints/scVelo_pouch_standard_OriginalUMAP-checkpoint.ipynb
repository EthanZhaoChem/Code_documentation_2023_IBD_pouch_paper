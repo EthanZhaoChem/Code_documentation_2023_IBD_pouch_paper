{
 "cells": [
  {
   "cell_type": "code",
   "execution_count": null,
   "id": "5643342a",
   "metadata": {},
   "outputs": [],
   "source": [
    "import scvelo as scv\n",
    "import scanpy as sc\n",
    "import cellrank as cr\n",
    "import numpy as np\n",
    "import pandas as pd\n",
    "import anndata as ad\n"
   ]
  },
  {
   "cell_type": "code",
   "execution_count": null,
   "id": "67e491d4",
   "metadata": {},
   "outputs": [],
   "source": [
    "scv.settings.verbosity = 3\n",
    "scv.settings.set_figure_params('scvelo', facecolor='white', dpi=100, frameon=False,\n",
    "                              figsize = [5,5])\n",
    "scv.settings.presenter_view = True  # set max width size for presenter view\n",
    "scv.settings.set_figure_params('scvelo')  # for beautified visualization"
   ]
  },
  {
   "cell_type": "code",
   "execution_count": null,
   "id": "ea38bf5d",
   "metadata": {},
   "outputs": [],
   "source": [
    "input_path = '/project/gca/yuzhao1/work/final_RC2rna/velocity/epithelial/subset_pouch/'\n",
    "input_path_raw = '/project/gca/yuzhao1/work/final_RC2rna/velocity/epithelial/'"
   ]
  },
  {
   "cell_type": "code",
   "execution_count": null,
   "id": "fe472cc6",
   "metadata": {},
   "outputs": [],
   "source": [
    "######################## part 1: process ##########################"
   ]
  },
  {
   "cell_type": "code",
   "execution_count": null,
   "id": "7d0d7371",
   "metadata": {},
   "outputs": [],
   "source": [
    "adata = sc.read_h5ad(input_path_raw+'adata_input.h5ad')\n",
    "# add metadata and visualize\n",
    "cell_meta = pd.read_csv(input_path_raw+\"metadata.csv\")\n",
    "adata.obs['anno1'] = cell_meta['anno1'].values\n",
    "adata = adata[adata.obs['biopsy_location'].isin(['POU'])]"
   ]
  },
  {
   "cell_type": "code",
   "execution_count": null,
   "id": "4761bbf3",
   "metadata": {},
   "outputs": [],
   "source": [
    "import pickle\n",
    "filename = input_path_raw+'loomdata_union.pkl'\n",
    "loomdata_union = pickle.load(open(filename, 'rb'))"
   ]
  },
  {
   "cell_type": "code",
   "execution_count": null,
   "id": "5c503810",
   "metadata": {},
   "outputs": [],
   "source": [
    "adata = scv.utils.merge(adata, loomdata_union)"
   ]
  },
  {
   "cell_type": "code",
   "execution_count": null,
   "id": "8e44d3ec",
   "metadata": {},
   "outputs": [],
   "source": [
    "adata"
   ]
  },
  {
   "cell_type": "code",
   "execution_count": null,
   "id": "c89713ec",
   "metadata": {},
   "outputs": [],
   "source": [
    "# plot umap to check\n",
    "sc.pl.umap(adata, color='anno1', frameon=False, legend_loc='on data', title='', save=False)"
   ]
  },
  {
   "cell_type": "code",
   "execution_count": null,
   "id": "16b34859",
   "metadata": {},
   "outputs": [],
   "source": [
    "scv.pl.proportions(adata, groupby='anno1')"
   ]
  },
  {
   "cell_type": "code",
   "execution_count": null,
   "id": "40f5efa4",
   "metadata": {},
   "outputs": [],
   "source": [
    "# pre-process, pre-filter all tiny noises\n",
    "scv.pp.filter_genes(adata, min_shared_counts=10)\n",
    "\n",
    "# normalize X, spliced and unspliced\n",
    "scv.pp.normalize_per_cell(adata, enforce=True) \n",
    "\n",
    "# get highly variable genes\n",
    "scv.pp.filter_genes_dispersion(adata, n_top_genes=2000)\n",
    "\n",
    "# only log the X\n",
    "scv.pp.log1p(adata)\n",
    "\n",
    "adata"
   ]
  },
  {
   "cell_type": "code",
   "execution_count": null,
   "id": "6aa5ba6e",
   "metadata": {},
   "outputs": [],
   "source": [
    "adata.obsm['X_pca']"
   ]
  },
  {
   "cell_type": "code",
   "execution_count": null,
   "id": "e2e81a7c",
   "metadata": {},
   "outputs": [],
   "source": [
    "# use a copy to calculate harmony_pca in this subset\n",
    "# using subset because otherwise the X will be subset by variable genes\n",
    "tempann = adata.copy()\n",
    "#sc.pp.highly_variable_genes(tempann, min_mean=0.0125, max_mean=3, min_disp=0.5)\n",
    "#sc.pl.highly_variable_genes(tempann)\n",
    "#tempann = tempann[:, tempann.var.highly_variable]\n",
    "sc.pp.regress_out(tempann, ['nCount_RNA', 'percent.mt', 'CC.Difference'])\n",
    "sc.pp.scale(tempann, max_value=10)\n",
    "sc.tl.pca(tempann, svd_solver='arpack', n_comps=50)\n",
    "import scanpy.external as sce\n",
    "sce.pp.harmony_integrate(tempann, 'Patient_ID')\n",
    "adata.obsm['X_pca'] = tempann.obsm['X_pca_harmony']\n",
    "adata.obsm['X_pca']"
   ]
  },
  {
   "cell_type": "code",
   "execution_count": null,
   "id": "eb4daeb5",
   "metadata": {},
   "outputs": [],
   "source": [
    "# necessary because I have transfer it from seurat\n",
    "sc.pp.neighbors(adata, n_neighbors=20, use_rep='X_pca')\n",
    "\n",
    "scv.pp.moments(adata, use_rep='X_pca', n_pcs=50, \n",
    "               n_neighbors=20, use_highly_variable=True)"
   ]
  },
  {
   "cell_type": "code",
   "execution_count": null,
   "id": "53aef3fb",
   "metadata": {},
   "outputs": [],
   "source": [
    "######################## part 2.1: Run dynamical model ##########################"
   ]
  },
  {
   "cell_type": "code",
   "execution_count": null,
   "id": "ee3e90ee",
   "metadata": {},
   "outputs": [],
   "source": [
    "# dynamics model requires to run scv.tl.recover_dynamics(adata, **params) beforehand\n",
    "scv.tl.recover_dynamics(adata, n_jobs=4, n_top_genes=2000, fit_basal_transcription = True)"
   ]
  },
  {
   "cell_type": "code",
   "execution_count": null,
   "id": "510004c4",
   "metadata": {},
   "outputs": [],
   "source": [
    "# compute velocity\n",
    "scv.tl.velocity(adata, mode='dynamical', filter_genes = False)\n",
    "\n",
    "\n",
    "!jupyter nbextension enable --py widgetsnbextension\n",
    "\n",
    "scv.tl.velocity_graph(adata, n_neighbors=20, n_jobs=4)\n",
    "\n",
    "scv.settings.set_figure_params('scvelo', facecolor='white', dpi=100, frameon=False,\n",
    "                              figsize = [5,5])"
   ]
  },
  {
   "cell_type": "code",
   "execution_count": null,
   "id": "338ad508",
   "metadata": {},
   "outputs": [],
   "source": [
    "scv.pl.velocity_embedding_grid(adata, basis='umap', color='anno1', \n",
    "                               save=False, title='', scale=0.2)"
   ]
  },
  {
   "cell_type": "code",
   "execution_count": null,
   "id": "daa20066",
   "metadata": {},
   "outputs": [],
   "source": [
    "scv.pl.velocity_embedding_stream(adata, basis='umap', color=['anno1'], \n",
    "                                 save=False, title='')"
   ]
  },
  {
   "cell_type": "code",
   "execution_count": null,
   "id": "c27e76c5",
   "metadata": {},
   "outputs": [],
   "source": [
    "# save dataset as anndata format\n",
    "adata.write(input_path+'adata_dynamical_output.h5ad')"
   ]
  },
  {
   "cell_type": "code",
   "execution_count": null,
   "id": "0ea75229",
   "metadata": {},
   "outputs": [],
   "source": [
    "######################## part 2.2: Run stochastic model ##########################"
   ]
  },
  {
   "cell_type": "code",
   "execution_count": null,
   "id": "d6177e59",
   "metadata": {},
   "outputs": [],
   "source": [
    "scv.tl.velocity(adata, mode='stochastic')\n",
    "\n",
    "scv.tl.velocity_graph(adata)\n",
    "\n",
    "scv.settings.set_figure_params('scvelo', facecolor='white', dpi=100, frameon=False,\n",
    "                              figsize = [5,5])"
   ]
  },
  {
   "cell_type": "code",
   "execution_count": null,
   "id": "1e00fe02",
   "metadata": {},
   "outputs": [],
   "source": [
    "scv.pl.velocity_embedding_grid(adata, basis='umap', color='anno1', \n",
    "                               save=False, title='', scale=0.2)"
   ]
  },
  {
   "cell_type": "code",
   "execution_count": null,
   "id": "a20bae77",
   "metadata": {},
   "outputs": [],
   "source": [
    "scv.pl.velocity_embedding_stream(adata, basis='umap', color=['anno1'], \n",
    "                                 save=False, title='')"
   ]
  },
  {
   "cell_type": "code",
   "execution_count": null,
   "id": "7cbd0b1f",
   "metadata": {},
   "outputs": [],
   "source": [
    "######################## part 3: visualize ##########################"
   ]
  },
  {
   "cell_type": "code",
   "execution_count": null,
   "id": "d2bc08ae",
   "metadata": {},
   "outputs": [],
   "source": [
    "# reload dynamical data\n",
    "adata = sc.read_h5ad(input_path+'adata_dynamical_output.h5ad')"
   ]
  },
  {
   "cell_type": "code",
   "execution_count": null,
   "id": "96e5ffd1",
   "metadata": {},
   "outputs": [],
   "source": [
    "scv.settings.set_figure_params('scvelo', facecolor='white', dpi=100, frameon=False,\n",
    "                              figsize = [5,5])"
   ]
  },
  {
   "cell_type": "code",
   "execution_count": null,
   "id": "df01cf15",
   "metadata": {},
   "outputs": [],
   "source": [
    "scv.pl.velocity_embedding_grid(adata, basis='umap', color='anno1', \n",
    "                               save=False, title='', scale=0.2)"
   ]
  },
  {
   "cell_type": "code",
   "execution_count": null,
   "id": "51f9296f",
   "metadata": {},
   "outputs": [],
   "source": [
    "scv.pl.velocity_embedding_stream(adata, basis='umap', color=['anno1'], \n",
    "                                 save=False, title='')"
   ]
  },
  {
   "cell_type": "code",
   "execution_count": null,
   "id": "ad101dd9",
   "metadata": {},
   "outputs": [],
   "source": []
  },
  {
   "cell_type": "code",
   "execution_count": null,
   "id": "6620a353",
   "metadata": {},
   "outputs": [],
   "source": [
    "############### part 4: downstream analysis ###############"
   ]
  },
  {
   "cell_type": "code",
   "execution_count": null,
   "id": "570eac53",
   "metadata": {},
   "outputs": [],
   "source": [
    "df = adata.var\n",
    "df = df[(df['fit_likelihood'] > .1) & df['velocity_genes'] == True]\n",
    "\n",
    "kwargs = dict(xscale='log', fontsize=16)\n",
    "with scv.GridSpec(ncols=3) as pl:\n",
    "    pl.hist(df['fit_alpha'], xlabel='transcription rate', **kwargs)\n",
    "    pl.hist(df['fit_beta'] * df['fit_scaling'], xlabel='splicing rate', xticks=[.1, .4, 1], **kwargs)\n",
    "    pl.hist(df['fit_gamma'], xlabel='degradation rate', xticks=[.1, .4, 1], **kwargs)\n",
    "\n",
    "scv.get_df(adata, 'fit*', dropna=True).head()"
   ]
  },
  {
   "cell_type": "code",
   "execution_count": null,
   "id": "f4467f43",
   "metadata": {},
   "outputs": [],
   "source": [
    "scv.tl.rank_velocity_genes(adata, groupby='anno1', min_corr=.3)"
   ]
  },
  {
   "cell_type": "code",
   "execution_count": null,
   "id": "22c1eb28",
   "metadata": {},
   "outputs": [],
   "source": [
    "df = scv.DataFrame(adata.uns['rank_velocity_genes']['names'])\n",
    "df.head(20)"
   ]
  },
  {
   "cell_type": "code",
   "execution_count": null,
   "id": "bdd1e4b8",
   "metadata": {},
   "outputs": [],
   "source": [
    "scv.tl.latent_time(adata)\n",
    "scv.pl.scatter(adata, color='latent_time', color_map='gnuplot', size=80)"
   ]
  },
  {
   "cell_type": "code",
   "execution_count": null,
   "id": "f35058f2",
   "metadata": {},
   "outputs": [],
   "source": [
    "top_genes = adata.var['fit_likelihood'].sort_values(ascending=False).index[:300]\n",
    "scv.pl.heatmap(adata, var_names=top_genes, sortby='latent_time', col_color='anno1', n_convolve=100)"
   ]
  },
  {
   "cell_type": "code",
   "execution_count": null,
   "id": "27dad2c1",
   "metadata": {},
   "outputs": [],
   "source": [
    "top_genes = adata.var['fit_likelihood'].sort_values(ascending=False).index\n",
    "scv.pl.scatter(adata, color='anno1', basis=top_genes[:15], ncols=5, frameon=False)"
   ]
  },
  {
   "cell_type": "code",
   "execution_count": null,
   "id": "50b83900",
   "metadata": {},
   "outputs": [],
   "source": [
    "scv.pl.velocity(adata, ['LGR5',  'SATB2', 'APOA4', 'CA2'], ncols=2)"
   ]
  },
  {
   "cell_type": "code",
   "execution_count": null,
   "id": "97ee6806",
   "metadata": {},
   "outputs": [],
   "source": []
  },
  {
   "cell_type": "code",
   "execution_count": null,
   "id": "656be270",
   "metadata": {},
   "outputs": [],
   "source": [
    "############### part 5: differential kinetics ###############"
   ]
  },
  {
   "cell_type": "code",
   "execution_count": null,
   "id": "ce5990ba",
   "metadata": {},
   "outputs": [],
   "source": [
    "# scv.tl.velocity(adata, diff_kinetics=False, mode='dynamical')\n",
    "scv.tl.velocity(adata, diff_kinetics=False, mode='stochastic')\n",
    "# scv.tl.velocity(adata, diff_kinetics=True, mode='stochastic', groupby='anno1',\n",
    "#                groups = ['Goblet1', 'Goblet2'])"
   ]
  },
  {
   "cell_type": "code",
   "execution_count": null,
   "id": "d546ac59",
   "metadata": {},
   "outputs": [],
   "source": [
    "scv.tl.velocity_graph(adata)"
   ]
  },
  {
   "cell_type": "code",
   "execution_count": null,
   "id": "dcbcc473",
   "metadata": {},
   "outputs": [],
   "source": [
    "scv.pl.velocity_embedding_stream(adata, basis='umap', color=['anno1'], \n",
    "                                 save=False, title='')"
   ]
  },
  {
   "cell_type": "code",
   "execution_count": null,
   "id": "4ab83de2",
   "metadata": {},
   "outputs": [],
   "source": [
    "scv.tl.rank_velocity_genes(adata, groupby='anno1', min_corr=.3)"
   ]
  },
  {
   "cell_type": "code",
   "execution_count": null,
   "id": "053d4697",
   "metadata": {},
   "outputs": [],
   "source": [
    "df = scv.DataFrame(adata.uns['rank_velocity_genes']['names'])\n",
    "df.head(5)"
   ]
  },
  {
   "cell_type": "code",
   "execution_count": null,
   "id": "68efb166",
   "metadata": {},
   "outputs": [],
   "source": [
    "scv.tl.latent_time(adata)\n",
    "scv.pl.scatter(adata, color='latent_time', color_map='gnuplot', size=80)"
   ]
  },
  {
   "cell_type": "code",
   "execution_count": null,
   "id": "20717d8b",
   "metadata": {},
   "outputs": [],
   "source": [
    "scv.pl.velocity(adata, ['LGR5',  'SATB2', 'APOA4', 'CA2'], ncols=2)"
   ]
  },
  {
   "cell_type": "code",
   "execution_count": null,
   "id": "bc4138e0",
   "metadata": {},
   "outputs": [],
   "source": []
  },
  {
   "cell_type": "code",
   "execution_count": null,
   "id": "28272857",
   "metadata": {},
   "outputs": [],
   "source": [
    "############### part 6: cellrank ###############\n",
    "# not suitable for our dataset, they lack a general adaptability"
   ]
  },
  {
   "cell_type": "code",
   "execution_count": null,
   "id": "1e3a5d2b",
   "metadata": {},
   "outputs": [],
   "source": [
    "import cellrank as cr"
   ]
  },
  {
   "cell_type": "code",
   "execution_count": null,
   "id": "d5320ee5",
   "metadata": {},
   "outputs": [],
   "source": [
    "cr.tl.terminal_states(adata, cluster_key=\"anno1\", weight_connectivities=0.2)"
   ]
  },
  {
   "cell_type": "code",
   "execution_count": null,
   "id": "f3523919",
   "metadata": {},
   "outputs": [],
   "source": [
    "cr.pl.terminal_states(adata)"
   ]
  },
  {
   "cell_type": "code",
   "execution_count": null,
   "id": "a1a5f835",
   "metadata": {},
   "outputs": [],
   "source": [
    "cr.tl.initial_states(adata, cluster_key=\"anno1\")"
   ]
  },
  {
   "cell_type": "code",
   "execution_count": null,
   "id": "6cac0469",
   "metadata": {},
   "outputs": [],
   "source": [
    "cr.pl.initial_states(adata, discrete=True)"
   ]
  },
  {
   "cell_type": "code",
   "execution_count": null,
   "id": "32724a05",
   "metadata": {},
   "outputs": [],
   "source": [
    "cr.tl.lineage_drivers(adata)"
   ]
  },
  {
   "cell_type": "code",
   "execution_count": null,
   "id": "6996ec94",
   "metadata": {},
   "outputs": [],
   "source": []
  },
  {
   "cell_type": "code",
   "execution_count": null,
   "id": "809d2b3d",
   "metadata": {},
   "outputs": [],
   "source": []
  },
  {
   "cell_type": "code",
   "execution_count": null,
   "id": "c8cec66f",
   "metadata": {},
   "outputs": [],
   "source": []
  }
 ],
 "metadata": {
  "kernelspec": {
   "display_name": "gca_env",
   "language": "python",
   "name": "gca_env"
  },
  "language_info": {
   "codemirror_mode": {
    "name": "ipython",
    "version": 3
   },
   "file_extension": ".py",
   "mimetype": "text/x-python",
   "name": "python",
   "nbconvert_exporter": "python",
   "pygments_lexer": "ipython3",
   "version": "3.8.13"
  }
 },
 "nbformat": 4,
 "nbformat_minor": 5
}
